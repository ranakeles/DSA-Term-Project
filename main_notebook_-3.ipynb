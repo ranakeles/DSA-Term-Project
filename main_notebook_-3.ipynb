{
  "nbformat": 4,
  "nbformat_minor": 0,
  "metadata": {
    "colab": {
      "provenance": []
    },
    "kernelspec": {
      "name": "python3",
      "display_name": "Python 3"
    },
    "language_info": {
      "name": "python"
    }
  },
  "cells": [
    {
      "cell_type": "markdown",
      "source": [
        "# **Exploratory Data Analysis - EDA**\n",
        "\n",
        "# Clean and Merge Datasets:\n",
        "- Filtered movies released between 2000 and 2010\n",
        "- Removed rows with missing or zero revenue\n",
        "- Extracted global average inflation for each year from the inflation dataset\n",
        "- Merged average inflation data into the movies dataset based on release year\n",
        "\n",
        "I also saved cleaned versions of datasets for later use."
      ],
      "metadata": {
        "id": "EHr4Z-EnMnPT"
      }
    },
    {
      "cell_type": "code",
      "execution_count": 11,
      "metadata": {
        "id": "V3RxJUttLHan"
      },
      "outputs": [],
      "source": [
        "import pandas as pd\n",
        "import matplotlib.pyplot as plt\n",
        "import seaborn as sns\n",
        "from scipy.stats import ttest_ind, chi2_contingency\n",
        "\n",
        "\n",
        "# Load datasets\n",
        "movies_df = pd.read_csv('/content/Movies.csv')\n",
        "inflation_df = pd.read_csv('/content/global_inflation_data.csv')\n",
        "\n",
        "# Clean movies dataset\n",
        "movies_df['release_date'] = pd.to_datetime(movies_df['release_date'], errors='coerce')\n",
        "movies_df = movies_df.dropna(subset=['release_date', 'revenue', 'genres'])\n",
        "movies_df = movies_df[movies_df['revenue'] > 0]\n",
        "movies_df['genres'] = movies_df['genres'].astype(str).str.split(',')\n",
        "movies_df['release_year'] = movies_df['release_date'].dt.year\n",
        "movies_df = movies_df[(movies_df['release_year'] >= 2000) & (movies_df['release_year'] <= 2010)]\n",
        "\n",
        "# Clean inflation dataset\n",
        "inflation_df = inflation_df.loc[:, ['country_name'] + [str(year) for year in range(2000, 2011)]]\n",
        "inflation_by_year = inflation_df.drop(columns=['country_name']).T\n",
        "inflation_by_year.index.name = 'year'\n",
        "inflation_by_year.columns = [f'country_{i}' for i in range(inflation_by_year.shape[1])]\n",
        "inflation_by_year = inflation_by_year.reset_index()\n",
        "inflation_by_year['year'] = inflation_by_year['year'].astype(int)\n",
        "inflation_by_year['mean_inflation'] = inflation_by_year.iloc[:, 1:].apply(pd.to_numeric, errors='coerce').mean(axis=1)\n",
        "\n",
        "# Merge inflation to movies\n",
        "inflation_map = inflation_by_year.set_index('year')['mean_inflation'].to_dict()\n",
        "movies_df['mean_inflation'] = movies_df['release_year'].map(inflation_map)\n",
        "\n",
        "# Save cleaned data for later steps\n",
        "movies_df.to_csv('/content/Movies_CLEANED.csv', index=False)\n",
        "inflation_by_year.to_csv('/content/Inflation_CLEANED.csv', index=False)\n"
      ]
    },
    {
      "cell_type": "markdown",
      "source": [
        "# Data Visualization\n",
        "This section provides visual and statistical exploration of the dataset. I examined trends in movie production, inflation rates, and how inflation may affect revenues and genres."
      ],
      "metadata": {
        "id": "tlJ_8NGKO991"
      }
    },
    {
      "cell_type": "markdown",
      "source": [
        "# • Number of movies released per year\n",
        "Bar Chart to show how many movies were released each year.\n",
        "\n",
        "The number of movies produced per year remained relatively stable from 2000 to 2010, with a slight increase around the mid-2000s. This trend could indicate a rise in global film production during the early 2000s, supported by advancing technology and expanding distribution networks.\n"
      ],
      "metadata": {
        "id": "qNO58vL6QHhQ"
      }
    },
    {
      "cell_type": "code",
      "source": [
        "\n",
        "plt.figure(figsize=(10, 5))\n",
        "movies_df['release_year'].value_counts().sort_index().plot(kind='bar', color='skyblue')\n",
        "plt.title('Number of Movies Released per Year (2000–2010)')\n",
        "plt.xlabel('Year')\n",
        "plt.ylabel('Number of Movies')\n",
        "plt.grid(axis='y', linestyle='--', alpha=0.7)\n",
        "plt.tight_layout()\n",
        "plt.show()\n"
      ],
      "metadata": {
        "id": "hE3jTrtdOI0e"
      },
      "execution_count": null,
      "outputs": []
    },
    {
      "cell_type": "markdown",
      "source": [
        "# • Average global inflation over time\n",
        "Line plot to track how inflation changed across years.\n",
        "\n",
        "Inflation remained relatively stable until 2008, when a noticeable spike occurred due to the global financial crisis.\n",
        "It can be said that this trend provides context for economic challenges that may have affected consumer behavior and movie industry investments.\n"
      ],
      "metadata": {
        "id": "zGjlkNmCQkpR"
      }
    },
    {
      "cell_type": "code",
      "source": [
        "\n",
        "plt.figure(figsize=(10, 5))\n",
        "plt.plot(inflation_by_year['year'], inflation_by_year['mean_inflation'], marker='o', color='salmon')\n",
        "plt.title('Average Global Inflation by Year (2000–2010)')\n",
        "plt.xlabel('Year')\n",
        "plt.ylabel('Mean Inflation (%)')\n",
        "plt.grid(True, linestyle='--', alpha=0.7)\n",
        "plt.tight_layout()\n",
        "plt.show()\n",
        "\n"
      ],
      "metadata": {
        "id": "fHtwzIGcQju5"
      },
      "execution_count": null,
      "outputs": []
    },
    {
      "cell_type": "markdown",
      "source": [
        "# • Boxplot of movie revenues grouped by each year's own inflation\n",
        "Boxplot to compare revenue variability by year.\n",
        "\n",
        "Revenue distributions vary widely from year to year. The revenue distribution appears to be wider and more variable in years with mid-to-high inflation. Some years (e.g., 2009) show tighter distributions and lower medians. This helps identify periods of economic stress or creative boom within the film industry.\n"
      ],
      "metadata": {
        "id": "N5tEHJpKRovK"
      }
    },
    {
      "cell_type": "code",
      "source": [
        "\n",
        "movies_df['mean_inflation_rounded'] = movies_df['mean_inflation'].round()\n",
        "\n",
        "plt.figure(figsize=(12, 6))\n",
        "sns.boxplot(data=movies_df, x='release_year', y='revenue', palette='pastel')\n",
        "plt.title('Movie Revenue Distribution by Release Year (2000–2010)')\n",
        "plt.xlabel('Release Year')\n",
        "plt.ylabel('Movie Revenue (USD)')\n",
        "plt.grid(True, linestyle='--', alpha=0.5)\n",
        "plt.tight_layout()\n",
        "plt.show()\n"
      ],
      "metadata": {
        "id": "QpCDClo9Rnru"
      },
      "execution_count": null,
      "outputs": []
    },
    {
      "cell_type": "markdown",
      "source": [
        "# • Scatter plot of inflation vs movie revenue\n",
        "Scatter Plot to examine relationship between inflation and revenue with color-coded revenue categories.\n",
        "\n",
        "The plot reveals that movies with varying revenues exist across all inflation years. There is no consistent clustering, indicating inflation alone does not predict revenue outcomes."
      ],
      "metadata": {
        "id": "nnVet-VdSGu5"
      }
    },
    {
      "cell_type": "code",
      "source": [
        "movies_df['Revenue Level'] = pd.qcut(movies_df['revenue'], q=4, labels=['Low', 'Medium', 'High', 'Very High'])\n",
        "\n",
        "plt.figure(figsize=(12, 6))\n",
        "sns.scatterplot(\n",
        "    data=movies_df,\n",
        "    x='release_year',\n",
        "    y='mean_inflation',\n",
        "    hue='Revenue Level',\n",
        "    palette='cool',\n",
        "    alpha=0.8\n",
        ")\n",
        "plt.title('Inflation vs Revenue by Year (Revenue Level as Color)')\n",
        "plt.xlabel('Release Year')\n",
        "plt.ylabel('Mean Inflation (%)')\n",
        "plt.grid(True, linestyle='--', alpha=0.6)\n",
        "plt.tight_layout()\n",
        "plt.show()\n"
      ],
      "metadata": {
        "id": "zbjCVPSGSEqW"
      },
      "execution_count": null,
      "outputs": []
    },
    {
      "cell_type": "markdown",
      "source": [
        "# • Correlation heatmap\n",
        "Heatmap to quantify linear relationships between numerical variables.\n",
        "\n",
        "The correlation between inflation and revenue is weak and slightly negative, suggesting possible inverse influence. This supports visual interpretations made in earlier scatter plots."
      ],
      "metadata": {
        "id": "i1p27MTJSYVj"
      }
    },
    {
      "cell_type": "code",
      "source": [
        "\n",
        "corr_df = movies_df[['revenue', 'mean_inflation']].corr()\n",
        "plt.figure(figsize=(6, 4))\n",
        "sns.heatmap(corr_df, annot=True, cmap='coolwarm', fmt='.2f')\n",
        "plt.title('Correlation Heatmap')\n",
        "plt.tight_layout()\n",
        "plt.show()\n"
      ],
      "metadata": {
        "id": "TyzuSMlXSXNj"
      },
      "execution_count": null,
      "outputs": []
    },
    {
      "cell_type": "markdown",
      "source": [
        "# • Average revenue per genre\n",
        "Boxplot to compare revenue variation across most common genres.\n",
        "Action and Adventure genres tend to have higher medians, possibly due to their global appeal and production scale. Other genres like Horror and Romance are more variable in revenue."
      ],
      "metadata": {
        "id": "oSz6QV5oStpw"
      }
    },
    {
      "cell_type": "code",
      "source": [
        "movies_exploded = movies_df.explode('genres')\n",
        "movies_exploded['genres'] = movies_exploded['genres'].str.strip()\n",
        "top_genres = movies_exploded['genres'].value_counts().head(10).index.tolist()\n",
        "filtered_genres = movies_exploded[movies_exploded['genres'].isin(top_genres)]\n",
        "\n",
        "plt.figure(figsize=(10, 6))\n",
        "sns.boxplot(data=filtered_genres, x='genres', y='revenue', palette='Set3')\n",
        "plt.title('Revenue Distribution by Top 10 Genres')\n",
        "plt.xlabel('Genre')\n",
        "plt.ylabel('Revenue (USD)')\n",
        "plt.xticks(rotation=45)\n",
        "plt.grid(True, linestyle='--', alpha=0.5)\n",
        "plt.tight_layout()\n",
        "plt.show()\n"
      ],
      "metadata": {
        "id": "Fm_9oV84Ss_W"
      },
      "execution_count": null,
      "outputs": []
    },
    {
      "cell_type": "markdown",
      "source": [
        "# • Summary statistics\n",
        "\n",
        "\n",
        "Revenue data exhibits a high standard deviation, confirming wide dispersion, indicating skewness. Inflation is far more stable and compact, as previously suggested by line plots and distribution assessments.\n"
      ],
      "metadata": {
        "id": "PHmT0BkuS-n9"
      }
    },
    {
      "cell_type": "code",
      "source": [
        "summary_stats = movies_df[['revenue', 'mean_inflation']].describe()\n",
        "print(\"\\nSummary Statistics:\\n\", summary_stats)"
      ],
      "metadata": {
        "id": "TWurShLkS9gl"
      },
      "execution_count": null,
      "outputs": []
    },
    {
      "cell_type": "markdown",
      "source": [
        "# • Conclusion\n",
        "\n",
        "This exploratory data analysis explored the relationship between global inflation and movie industry trends from 2000 to 2010 using data from TMDB and global inflation statistics.\n",
        "Overall, while inflation may contribute to shifts in audience spending and production decisions, it does not appear to be a dominant factor in determining movie revenue performance. Other factors must be explored."
      ],
      "metadata": {
        "id": "o-UhIXxPT6LC"
      }
    }
  ]
}