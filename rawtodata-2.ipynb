{
  "nbformat": 4,
  "nbformat_minor": 0,
  "metadata": {
    "colab": {
      "provenance": []
    },
    "kernelspec": {
      "name": "python3",
      "display_name": "Python 3"
    },
    "language_info": {
      "name": "python"
    }
  },
  "cells": [
    {
      "cell_type": "code",
      "execution_count": 1,
      "metadata": {
        "colab": {
          "base_uri": "https://localhost:8080/"
        },
        "id": "8CCohTV_HUmn",
        "outputId": "beff5c9e-1653-49cb-91dd-bb81f92a268b"
      },
      "outputs": [
        {
          "output_type": "stream",
          "name": "stdout",
          "text": [
            "Mounted at /content/drive\n"
          ]
        },
        {
          "output_type": "stream",
          "name": "stderr",
          "text": [
            "<ipython-input-1-14d688bb3c59>:22: SettingWithCopyWarning: \n",
            "A value is trying to be set on a copy of a slice from a DataFrame.\n",
            "Try using .loc[row_indexer,col_indexer] = value instead\n",
            "\n",
            "See the caveats in the documentation: https://pandas.pydata.org/pandas-docs/stable/user_guide/indexing.html#returning-a-view-versus-a-copy\n",
            "  movies_df_raw['genres'] = movies_df_raw['genres'].astype(str).str.split(',')\n",
            "<ipython-input-1-14d688bb3c59>:23: SettingWithCopyWarning: \n",
            "A value is trying to be set on a copy of a slice from a DataFrame.\n",
            "Try using .loc[row_indexer,col_indexer] = value instead\n",
            "\n",
            "See the caveats in the documentation: https://pandas.pydata.org/pandas-docs/stable/user_guide/indexing.html#returning-a-view-versus-a-copy\n",
            "  movies_df_raw['release_year'] = movies_df_raw['release_date'].dt.year\n"
          ]
        },
        {
          "output_type": "execute_result",
          "data": {
            "text/plain": [
              "{'RAW': ['Movies_RAW.csv', 'Inflation_RAW.csv'],\n",
              " 'PROCESSED': ['Movies_PROCESSED.csv', 'Inflation_PROCESSED.csv']}"
            ]
          },
          "metadata": {},
          "execution_count": 1
        }
      ],
      "source": [
        "from google.colab import drive\n",
        "drive.mount('/content/drive')\n",
        "\n",
        "import pandas as pd\n",
        "\n",
        "# Reload the raw files\n",
        "movies_df = pd.read_csv('/content/drive/MyDrive/Movies.csv')\n",
        "inflation_df = pd.read_csv('/content/drive/MyDrive/global_inflation_data.csv')\n",
        "\n",
        "# Reload the raw files\n",
        "movies_df_raw = pd.read_csv('/content/drive/MyDrive/Movies.csv')\n",
        "inflation_df_raw = pd.read_csv('/content/drive/MyDrive/global_inflation_data.csv')\n",
        "\n",
        "# Save raw versions\n",
        "movies_df_raw.to_csv('/content/drive/MyDrive/Movies_RAW.csv', index=False)\n",
        "inflation_df_raw.to_csv('/content/drive/MyDrive/Inflation_RAW.csv', index=False)\n",
        "\n",
        "# Processed Movies dataset\n",
        "movies_df_raw['release_date'] = pd.to_datetime(movies_df_raw['release_date'], errors='coerce')\n",
        "movies_df_raw = movies_df_raw.dropna(subset=['release_date', 'genres', 'revenue'])\n",
        "movies_df_raw['genres'] = movies_df_raw['genres'].astype(str).str.split(',')\n",
        "movies_df_raw['release_year'] = movies_df_raw['release_date'].dt.year\n",
        "movies_df_processed = movies_df_raw[['title', 'release_date', 'release_year', 'revenue', 'genres']]\n",
        "movies_df_processed.to_csv('/content/drive/MyDrive/Movies_PROCESSED.csv', index=False)\n",
        "\n",
        "# Processed global inflation dataset\n",
        "inflation_df_raw = inflation_df_raw.loc[:, ['country_name'] + [str(year) for year in range(2000, 2021)]]\n",
        "inflation_by_year = inflation_df_raw.drop(columns=['country_name']).T\n",
        "inflation_by_year.index.name = 'year'\n",
        "inflation_by_year.columns = [f'country_{i}' for i in range(inflation_by_year.shape[1])]\n",
        "inflation_by_year = inflation_by_year.reset_index()\n",
        "inflation_by_year['year'] = inflation_by_year['year'].astype(int)\n",
        "inflation_by_year['mean_inflation'] = inflation_by_year.iloc[:, 1:].apply(pd.to_numeric, errors='coerce').mean(axis=1)\n",
        "inflation_processed = inflation_by_year[['year', 'mean_inflation']]\n",
        "inflation_processed.to_csv('/content/drive/MyDrive/Inflation_PROCESSED.csv', index=False)\n",
        "\n",
        "# Show file names\n",
        "{\n",
        "    \"RAW\": [\"Movies_RAW.csv\", \"Inflation_RAW.csv\"],\n",
        "    \"PROCESSED\": [\"Movies_PROCESSED.csv\", \"Inflation_PROCESSED.csv\"]\n",
        "}\n"
      ]
    }
  ]
}