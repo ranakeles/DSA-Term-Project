{
  "nbformat": 4,
  "nbformat_minor": 0,
  "metadata": {
    "colab": {
      "provenance": []
    },
    "kernelspec": {
      "name": "python3",
      "display_name": "Python 3"
    },
    "language_info": {
      "name": "python"
    }
  },
  "cells": [
    {
      "cell_type": "markdown",
      "source": [
        "# Hypothesis 1: Effect of Inflation on Average Movie Revenue\n",
        "\n",
        "\n",
        "*   **Null Hypotheses (H₀):** There is no significant difference in average movie revenue between low-inflation and high-inflation years.\n",
        "*   **Alternative Hypotheses (H₁):** There is a significant difference in average movie revenue between low and high inflation years.\n",
        "\n",
        "A two-sample independent t-test was performed comparing movie revenues across low- and high-inflation years using a mean inflation threshold of 7.03%.\n",
        "\n",
        "**Results:**\n",
        "*   Mean Revenue (Low Inflation): $106.78 M\n",
        "\n",
        "*   Mean Revenue (High Inflation): $100.60 M\n",
        "*   t-statistic: 0.698\n",
        "*   p-value: 0.485\n",
        "\n",
        "\n",
        "**Conclusion:**\n",
        "Since the p-value is greater than 0.05, we fail to reject the null hypothesis.\n",
        "There is no statistically significant difference in average movie revenues between low- and high-inflation years in the 2000–2010 period."
      ],
      "metadata": {
        "id": "1x7A80WWTHeV"
      }
    },
    {
      "cell_type": "code",
      "execution_count": 4,
      "metadata": {
        "colab": {
          "base_uri": "https://localhost:8080/"
        },
        "id": "wK-6cCw8PBQB",
        "outputId": "241da23a-3d2f-4430-f0e0-786ad7d428b8"
      },
      "outputs": [
        {
          "output_type": "stream",
          "name": "stdout",
          "text": [
            "\n",
            "--- Hypothesis 1 Test Results ---\n",
            "Inflation Threshold: 7.03%\n",
            "Mean Revenue (Low Inflation): $106.78M\n",
            "Mean Revenue (High Inflation): $100.60M\n",
            "t-statistic: 0.698\n",
            "p-value: 0.485\n"
          ]
        }
      ],
      "source": [
        "import pandas as pd\n",
        "import matplotlib.pyplot as plt\n",
        "import seaborn as sns\n",
        "from scipy.stats import ttest_ind, chi2_contingency\n",
        "\n",
        "movies_df = pd.read_csv('/content/Movies_CLEANED.csv')\n",
        "\n",
        "threshold = movies_df['mean_inflation'].mean()\n",
        "\n",
        "low_inflation_revenue = movies_df[movies_df['mean_inflation'] < threshold]['revenue']\n",
        "high_inflation_revenue = movies_df[movies_df['mean_inflation'] >= threshold]['revenue']\n",
        "\n",
        "t_stat, p_value = ttest_ind(low_inflation_revenue, high_inflation_revenue, equal_var=False)\n",
        "\n",
        "\n",
        "threshold_percent = threshold\n",
        "low_mean = low_inflation_revenue.mean() / 1e6\n",
        "high_mean = high_inflation_revenue.mean() / 1e6\n",
        "\n",
        "print(\"\\n--- Hypothesis 1 Test Results ---\")\n",
        "print(f\"Inflation Threshold: {threshold_percent:.2f}%\")\n",
        "print(f\"Mean Revenue (Low Inflation): ${low_mean:.2f}M\")\n",
        "print(f\"Mean Revenue (High Inflation): ${high_mean:.2f}M\")\n",
        "print(f\"t-statistic: {t_stat:.3f}\")\n",
        "print(f\"p-value: {p_value:.3f}\")\n"
      ]
    },
    {
      "cell_type": "markdown",
      "source": [
        "# Hypothesis 2: Effect of Inflation on Genre Distribution\n",
        "\n",
        "\n",
        "*   **•\tNull Hypotheses (H₀):** Genre distribution is independent of inflation level.\n",
        "*   **•\tAlternative Hypotheses (H₁):** Genre distribution is dependent on inflation level.\n",
        "\n",
        "\n",
        "\n",
        "I selected the top 5 most frequent movie genres and constructed a contingency table of their frequency across low and high inflation years.\n",
        "A Chi-square test of independence was then applied to examine the relationship between inflation level and genre distribution.\n",
        "\n",
        "**Results:**\n",
        "*   Chi-square statistic: 6.24\n",
        "*   Degrees of Freedom: 4\n",
        "*   p-value: 0.182\n",
        "\n",
        "**Conclusion:**\n",
        "Since the p-value (0.182) is greater than 0.05, we fail to reject the null hypothesis.\n",
        "There is no statistically significant evidence that genre popularity differs between low and high inflation years in the 2000–2010 period."
      ],
      "metadata": {
        "id": "ZQgQlMtbWBbx"
      }
    },
    {
      "cell_type": "code",
      "source": [
        "import pandas as pd\n",
        "from scipy.stats import chi2_contingency\n",
        "\n",
        "movies_df = pd.read_csv('/content/Movies_CLEANED.csv')\n",
        "\n",
        "\n",
        "threshold = movies_df['mean_inflation'].mean()\n",
        "movies_df['Inflation Level'] = movies_df['mean_inflation'].apply(lambda x: 'Low' if x < threshold else 'High')\n",
        "\n",
        "movies_df['genres'] = movies_df['genres'].apply(eval) if isinstance(movies_df['genres'].iloc[0], str) else movies_df['genres']\n",
        "movies_exploded = movies_df.explode('genres')\n",
        "movies_exploded['genres'] = movies_exploded['genres'].str.strip()\n",
        "\n",
        "\n",
        "top_genres = movies_exploded['genres'].value_counts().head(5).index\n",
        "filtered_df = movies_exploded[movies_exploded['genres'].isin(top_genres)]\n",
        "\n",
        "contingency_table = pd.crosstab(filtered_df['Inflation Level'], filtered_df['genres'])\n",
        "\n",
        "\n",
        "chi2, p_value, dof, expected = chi2_contingency(contingency_table)\n",
        "\n",
        "print(\"--- Hypothesis 2 Test Results ---\")\n",
        "print(contingency_table)\n",
        "print(f\"\\nChi-square statistic: {chi2:.3f}\")\n",
        "print(f\"Degrees of Freedom: {dof}\")\n",
        "print(f\"p-value: {p_value:.3f}\")"
      ],
      "metadata": {
        "colab": {
          "base_uri": "https://localhost:8080/"
        },
        "id": "UdO6mM45Ul9G",
        "outputId": "0ed88e4d-691c-44ba-efd9-863c2539a5df"
      },
      "execution_count": 5,
      "outputs": [
        {
          "output_type": "stream",
          "name": "stdout",
          "text": [
            "--- Hypothesis 2 Test Results ---\n",
            "genres           Action  Comedy  Drama  Romance  Thriller\n",
            "Inflation Level                                          \n",
            "High                112     163    188      101       116\n",
            "Low                 305     470    537      213       353\n",
            "\n",
            "Chi-square statistic: 6.235\n",
            "Degrees of Freedom: 4\n",
            "p-value: 0.182\n"
          ]
        }
      ]
    }
  ]
}